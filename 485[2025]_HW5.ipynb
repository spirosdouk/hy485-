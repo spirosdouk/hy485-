{
  "nbformat": 4,
  "nbformat_minor": 0,
  "metadata": {
    "colab": {
      "provenance": [],
      "include_colab_link": true
    },
    "kernelspec": {
      "name": "python3",
      "display_name": "Python 3"
    },
    "language_info": {
      "name": "python"
    }
  },
  "cells": [
    {
      "cell_type": "markdown",
      "metadata": {
        "id": "view-in-github",
        "colab_type": "text"
      },
      "source": [
        "<a href=\"https://colab.research.google.com/github/spirosdouk/hy485-/blob/main/485%5B2025%5D_HW5.ipynb\" target=\"_parent\"><img src=\"https://colab.research.google.com/assets/colab-badge.svg\" alt=\"Open In Colab\"/></a>"
      ]
    },
    {
      "cell_type": "markdown",
      "source": [
        "#SVM Classification – Breast Cancer Dataset\n",
        "In this exercise, you'll explore Support Vector Machines (SVMs) for binary classification using the Breast Cancer Wisconsin dataset. You'll go beyond just training a model — you'll investigate how SVMs make decisions, visualize decision boundaries, compare kernels, tune hyperparameters, and evaluate model confidence."
      ],
      "metadata": {
        "id": "snUNiLrhP7b3"
      }
    },
    {
      "cell_type": "markdown",
      "source": [
        "## Import necessary libraries"
      ],
      "metadata": {
        "id": "Rruqq_AMQNt2"
      }
    },
    {
      "cell_type": "code",
      "execution_count": null,
      "metadata": {
        "id": "IYI7CDKePqfa"
      },
      "outputs": [],
      "source": [
        "import numpy as np\n",
        "import pandas as pd\n",
        "import matplotlib.pyplot as plt\n",
        "from sklearn.datasets import load_breast_cancer"
      ]
    },
    {
      "cell_type": "markdown",
      "source": [
        "##Load & Explore the Breast Cancer Dataset\n",
        "\n",
        "Use the built-in breast cancer dataset and get the basic characteristics for the data."
      ],
      "metadata": {
        "id": "ucqGguoIQUHe"
      }
    },
    {
      "cell_type": "code",
      "source": [
        "data = load_breast_cancer()\n",
        "\n",
        "# Explore basic characteristics of the dataset\n",
        "print(\"Dataset Keys:\", data.keys())\n",
        "print(\"Data Shape:\", data.data.shape)              # (n_samples, n_features)\n",
        "print(\"Feature Names:\", data.feature_names)\n",
        "print(\"Target Names:\", data.target_names)\n",
        "\n",
        "# Convert the dataset into a Pandas DataFrame\n",
        "df = pd.DataFrame(data.data, columns=data.feature_names)\n",
        "df['target'] = data.target\n",
        "\n",
        "# Display the first 5 rows\n",
        "print(df.head())\n",
        "\n",
        "# Get basic summary statistics\n",
        "print(df.describe())"
      ],
      "metadata": {
        "id": "mApBWz0pQTmX"
      },
      "execution_count": null,
      "outputs": []
    },
    {
      "cell_type": "markdown",
      "source": [
        "**Question:** What kind of classification problem is this? Are the classes balanced?"
      ],
      "metadata": {
        "id": "eHmAJPUnQprW"
      }
    },
    {
      "cell_type": "markdown",
      "source": [
        "## Preprocess the Data\n",
        "Standardize the features and split the data."
      ],
      "metadata": {
        "id": "zPwblX7pQyce"
      }
    },
    {
      "cell_type": "code",
      "source": [],
      "metadata": {
        "id": "vwSG7TmhQ3Q_"
      },
      "execution_count": null,
      "outputs": []
    },
    {
      "cell_type": "markdown",
      "source": [
        "## Visualize with PCA (2D)\n",
        "\n",
        "Use PCA to reduce the feature space to 2D and plot the points."
      ],
      "metadata": {
        "id": "wOTXXOLZQ2yQ"
      }
    },
    {
      "cell_type": "code",
      "source": [],
      "metadata": {
        "id": "1qb4pxyARFyY"
      },
      "execution_count": null,
      "outputs": []
    },
    {
      "cell_type": "markdown",
      "source": [
        "**Question:** Can the classes be separated linearly in this reduced space?"
      ],
      "metadata": {
        "id": "XyYxeSZDRGEY"
      }
    },
    {
      "cell_type": "markdown",
      "source": [
        "## Train & Evaluate a Linear SVM\n",
        "\n",
        "Train an SVM with a linear kernel and evaluate its performance."
      ],
      "metadata": {
        "id": "ngme7rthRJ64"
      }
    },
    {
      "cell_type": "code",
      "source": [],
      "metadata": {
        "id": "GYgvVMOpRQy4"
      },
      "execution_count": null,
      "outputs": []
    },
    {
      "cell_type": "markdown",
      "source": [
        "## Visualize Decision Boundary (with PCA Projection)\n",
        "\n",
        "Project the decision surface into PCA space (from previous task).\n"
      ],
      "metadata": {
        "id": "9PyT7V6ZRRCQ"
      }
    },
    {
      "cell_type": "code",
      "source": [],
      "metadata": {
        "id": "XI8WcX2yRxjs"
      },
      "execution_count": null,
      "outputs": []
    },
    {
      "cell_type": "markdown",
      "source": [
        "## Train an SVM with RBF Kernel\n",
        "\n",
        "Use a radial basis function kernel and compare its performance."
      ],
      "metadata": {
        "id": "grJR9QsYRx7k"
      }
    },
    {
      "cell_type": "code",
      "source": [],
      "metadata": {
        "id": "Vs6JRxUER50E"
      },
      "execution_count": null,
      "outputs": []
    },
    {
      "cell_type": "markdown",
      "source": [
        "## Cross-Validation Comparison\n",
        "\n",
        "Compare linear vs. RBF kernel using 5-fold cross-validation."
      ],
      "metadata": {
        "id": "T6HylU8wR6JU"
      }
    },
    {
      "cell_type": "code",
      "source": [],
      "metadata": {
        "id": "yaEEd9M9SIOV"
      },
      "execution_count": null,
      "outputs": []
    },
    {
      "cell_type": "markdown",
      "source": [
        "## Grid Search Hyperparameter Tuning (RBF)\n",
        "Perform a grid search over `C` and `gamma` for the RBF kernel."
      ],
      "metadata": {
        "id": "Rs-4lX9mSIft"
      }
    },
    {
      "cell_type": "code",
      "source": [],
      "metadata": {
        "id": "noMvvT4zSUdt"
      },
      "execution_count": null,
      "outputs": []
    },
    {
      "cell_type": "markdown",
      "source": [
        "## Evaluate Model Confidence (Decision Function)\n",
        "\n",
        "Plot the decision function (histogram) or prediction confidence on the PCA plot.\n"
      ],
      "metadata": {
        "id": "E_VxiNv_SUu1"
      }
    },
    {
      "cell_type": "code",
      "source": [],
      "metadata": {
        "id": "bO5yYqoWTH1v"
      },
      "execution_count": null,
      "outputs": []
    },
    {
      "cell_type": "markdown",
      "source": [
        "**Question:** Are predictions well-separated or clustered near the margin?"
      ],
      "metadata": {
        "id": "-VnGlBv8T2nA"
      }
    }
  ]
}